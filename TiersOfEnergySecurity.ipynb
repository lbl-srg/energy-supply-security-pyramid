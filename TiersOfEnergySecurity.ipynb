{
 "cells": [
  {
   "cell_type": "markdown",
   "id": "41f19bb3",
   "metadata": {},
   "source": [
    "# Calculation of tiers of energy supply security\n"
   ]
  },
  {
   "cell_type": "markdown",
   "id": "8c61cf13",
   "metadata": {},
   "source": [
    "List of files to be processed"
   ]
  },
  {
   "cell_type": "code",
   "execution_count": null,
   "id": "4aaf2b92",
   "metadata": {},
   "outputs": [],
   "source": [
    "files = [\"Maslow_CH_Ref_exec4.xlsx\"]"
   ]
  },
  {
   "cell_type": "markdown",
   "id": "3cb25311",
   "metadata": {},
   "source": [
    "Calculation of tiers of energy supply security"
   ]
  },
  {
   "cell_type": "code",
   "execution_count": 13,
   "id": "85564478",
   "metadata": {},
   "outputs": [
    {
     "name": "stdout",
     "output_type": "stream",
     "text": [
      "Processing maslow/data/Maslow_CH_Ref_exec4.xlsx\n",
      "SPG = 0.7745788685228542\n",
      "SAG = 560.4249127348737\n",
      "AUG = 0.14997945511559932\n",
      "SSG = 2296.19884247735\n",
      "AUT = 2296.19884247735\n"
     ]
    },
    {
     "ename": "AttributeError",
     "evalue": "'Maslow' object has no attribute 'get_ESSI'",
     "output_type": "error",
     "traceback": [
      "\u001b[0;31m---------------------------------------------------------------------------\u001b[0m",
      "\u001b[0;31mAttributeError\u001b[0m                            Traceback (most recent call last)",
      "\u001b[0;32m/tmp/ipykernel_377081/4036939034.py\u001b[0m in \u001b[0;36m<module>\u001b[0;34m\u001b[0m\n\u001b[1;32m     22\u001b[0m     \u001b[0mprint\u001b[0m\u001b[0;34m(\u001b[0m\u001b[0;34mf\"AUT = {AUT}\"\u001b[0m\u001b[0;34m)\u001b[0m\u001b[0;34m\u001b[0m\u001b[0;34m\u001b[0m\u001b[0m\n\u001b[1;32m     23\u001b[0m \u001b[0;34m\u001b[0m\u001b[0m\n\u001b[0;32m---> 24\u001b[0;31m     \u001b[0mESSI\u001b[0m \u001b[0;34m=\u001b[0m \u001b[0mc\u001b[0m\u001b[0;34m.\u001b[0m\u001b[0mget_ESSI\u001b[0m\u001b[0;34m(\u001b[0m\u001b[0mw\u001b[0m\u001b[0;34m=\u001b[0m\u001b[0;34m[\u001b[0m\u001b[0;36m0.1\u001b[0m\u001b[0;34m,\u001b[0m \u001b[0;36m0.2\u001b[0m\u001b[0;34m,\u001b[0m \u001b[0;36m0.3\u001b[0m\u001b[0;34m,\u001b[0m \u001b[0;36m0.35\u001b[0m\u001b[0;34m,\u001b[0m \u001b[0;36m0.05\u001b[0m\u001b[0;34m]\u001b[0m\u001b[0;34m)\u001b[0m\u001b[0;34m\u001b[0m\u001b[0;34m\u001b[0m\u001b[0m\n\u001b[0m\u001b[1;32m     25\u001b[0m     \u001b[0mprint\u001b[0m\u001b[0;34m(\u001b[0m\u001b[0;34mf\"ESSI = {ESSI}\"\u001b[0m\u001b[0;34m)\u001b[0m\u001b[0;34m\u001b[0m\u001b[0;34m\u001b[0m\u001b[0m\n\u001b[1;32m     26\u001b[0m \u001b[0;34m\u001b[0m\u001b[0m\n",
      "\u001b[0;31mAttributeError\u001b[0m: 'Maslow' object has no attribute 'get_ESSI'"
     ]
    }
   ],
   "source": [
    "import os\n",
    "import maslow.math.Maslow as m\n",
    "for fn in files:\n",
    "    filename = os.path.join(\"maslow\", \"data\", \"Maslow_CH_Ref_exec4.xlsx\")\n",
    "    print(f\"Processing {file_name}\")\n",
    "    c = m.Maslow(filename=filename,\n",
    "                 sheet=\"supply_TS_smooth_Empa\")\n",
    "        \n",
    "    SPG = c.get_SPG()\n",
    "    print(f\"SPG = {SPG}\")\n",
    "\n",
    "    SAG = c.get_SAG()\n",
    "    print(f\"SAG = {SAG}\")\n",
    "\n",
    "    AUG = c.get_AUG()\n",
    "    print(f\"AUG = {AUG}\")\n",
    "\n",
    "    SSG = c.get_SSG()\n",
    "    print(f\"SSG = {SSG}\")\n",
    "\n",
    "    AUT = c.get_AUT()\n",
    "    print(f\"AUT = {AUT}\")\n",
    "    \n",
    "    ESSI = c.get_ESSI(w=[0.1, 0.2, 0.3, 0.35, 0.05])\n",
    "    print(f\"ESSI = {ESSI}\")\n",
    "    \n"
   ]
  },
  {
   "cell_type": "code",
   "execution_count": null,
   "id": "1c6d21d5",
   "metadata": {},
   "outputs": [],
   "source": []
  }
 ],
 "metadata": {
  "kernelspec": {
   "display_name": "Python 3 (ipykernel)",
   "language": "python",
   "name": "python3"
  },
  "language_info": {
   "codemirror_mode": {
    "name": "ipython",
    "version": 3
   },
   "file_extension": ".py",
   "mimetype": "text/x-python",
   "name": "python",
   "nbconvert_exporter": "python",
   "pygments_lexer": "ipython3",
   "version": "3.8.10"
  }
 },
 "nbformat": 4,
 "nbformat_minor": 5
}
