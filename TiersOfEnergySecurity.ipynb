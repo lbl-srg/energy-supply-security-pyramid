{
 "cells": [
  {
   "cell_type": "markdown",
   "id": "41f19bb3",
   "metadata": {},
   "source": [
    "# Calculation of tiers of energy supply security\n"
   ]
  },
  {
   "cell_type": "markdown",
   "id": "8c61cf13",
   "metadata": {},
   "source": [
    "List of files to be processed"
   ]
  },
  {
   "cell_type": "code",
   "execution_count": 1,
   "id": "4aaf2b92",
   "metadata": {},
   "outputs": [],
   "source": [
    "files = [\"Maslow_CH_Ref_exec.xlsx\", \"Maslow_CH_2050_exec.xlsx\"]"
   ]
  },
  {
   "cell_type": "markdown",
   "id": "3cb25311",
   "metadata": {},
   "source": [
    "Calculation of tiers of energy supply security"
   ]
  },
  {
   "cell_type": "code",
   "execution_count": 2,
   "id": "85564478",
   "metadata": {},
   "outputs": [
    {
     "name": "stdout",
     "output_type": "stream",
     "text": [
      "Processing maslow/data/Maslow_CH_Ref_exec.xlsx\n",
      "SPG = 0.21119690910884745\n",
      "SAG = 0.8598075482315938\n",
      "AUG = 0.5202237839483511\n",
      "SSG = 0.27253111923190326\n",
      "AUT = 0.0\n",
      "ESSI = 0.44453422747287497\n",
      "Processing maslow/data/Maslow_CH_2050_exec.xlsx\n",
      "SPG = 0.7154413956042923\n",
      "SAG = 0.8400540991118752\n",
      "AUG = 0.3650121480317506\n",
      "SSG = 0.7661996836815194\n",
      "AUT = 0.0\n",
      "ESSI = 0.6172284930808611\n"
     ]
    }
   ],
   "source": [
    "import os\n",
    "import maslow.math.Maslow as m\n",
    "for fn in files:\n",
    "    filename = os.path.join(\"maslow\", \"data\", fn)\n",
    "    print(f\"Processing {filename}\")\n",
    "    c = m.Maslow(filename=filename,\n",
    "                 sheet=\"supply_TS_smooth_Empa\")\n",
    "\n",
    "    SPG = c.get_SPG()\n",
    "    print(f\"SPG = {SPG}\")\n",
    "\n",
    "    SAG = c.get_SAG()\n",
    "    print(f\"SAG = {SAG}\")\n",
    "\n",
    "    AUG = c.get_AUG()\n",
    "    print(f\"AUG = {AUG}\")\n",
    "\n",
    "    SSG = c.get_SSG()\n",
    "    print(f\"SSG = {SSG}\")\n",
    "\n",
    "    AUT = c.get_AUT()\n",
    "    print(f\"AUT = {AUT}\")\n",
    "\n",
    "    ESSI = c.get_ESSI(w=[0.1, 0.2, 0.3, 0.35, 0.05])\n",
    "    print(f\"ESSI = {ESSI}\")\n",
    "\n"
   ]
  },
  {
   "cell_type": "code",
   "execution_count": null,
   "id": "1c6d21d5",
   "metadata": {},
   "outputs": [],
   "source": []
  }
 ],
 "metadata": {
  "kernelspec": {
   "display_name": "Python 3 (ipykernel)",
   "language": "python",
   "name": "python3"
  },
  "language_info": {
   "codemirror_mode": {
    "name": "ipython",
    "version": 3
   },
   "file_extension": ".py",
   "mimetype": "text/x-python",
   "name": "python",
   "nbconvert_exporter": "python",
   "pygments_lexer": "ipython3",
   "version": "3.12.4"
  }
 },
 "nbformat": 4,
 "nbformat_minor": 5
}
